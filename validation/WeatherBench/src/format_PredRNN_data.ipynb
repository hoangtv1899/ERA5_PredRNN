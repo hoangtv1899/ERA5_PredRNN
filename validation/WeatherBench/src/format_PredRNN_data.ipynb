{
 "cells": [
  {
   "cell_type": "code",
   "execution_count": 1,
   "id": "533e3786-d926-41ff-9718-5235ad76b94e",
   "metadata": {},
   "outputs": [],
   "source": [
    "import os\n",
    "import numpy as np\n",
    "from datetime import datetime, timedelta"
   ]
  },
  {
   "cell_type": "code",
   "execution_count": 2,
   "id": "fa5ed5e7-0078-4515-b383-4ef50821e222",
   "metadata": {},
   "outputs": [],
   "source": [
    "valid_data_paths = '/work/08589/hvtran/ls6/ERA5_PredRNN-main/era5_train_0825002005_6_24hr.npz,/work/08589/hvtran/ls6/ERA5_PredRNN-main/era5_train_1023002012_6_24hr.npz,/work/08589/hvtran/ls6/ERA5_PredRNN-main/era5_train_0827002021_6_24hr.npz,/work/08589/hvtran/ls6/ERA5_PredRNN-main/era5_train_0921002022_6_24hr.npz'\n",
    "valid_data_list = valid_data_paths.split(',')"
   ]
  },
  {
   "cell_type": "code",
   "execution_count": 3,
   "id": "04106dcd-d20e-47ab-940e-d56d70252bff",
   "metadata": {},
   "outputs": [
    {
     "name": "stdout",
     "output_type": "stream",
     "text": [
      "/work/08589/hvtran/ls6/ERA5_PredRNN-main/era5_train_0825002005_6_24hr.npz\n"
     ]
    }
   ],
   "source": [
    "ii = 0\n",
    "print(valid_data_list[ii])\n",
    "ds = np.load(valid_data_list[ii])"
   ]
  },
  {
   "cell_type": "code",
   "execution_count": 4,
   "id": "71d0020d-8e1f-48d7-b57b-3cc62be85c5a",
   "metadata": {},
   "outputs": [
    {
     "data": {
      "text/plain": [
       "(336, 6, 720, 1440)"
      ]
     },
     "execution_count": 4,
     "metadata": {},
     "output_type": "execute_result"
    }
   ],
   "source": [
    "ds['input_raw_data'].shape"
   ]
  },
  {
   "cell_type": "code",
   "execution_count": 5,
   "id": "242354db-c1fd-4cf0-9fd1-b2f86e62ddd8",
   "metadata": {},
   "outputs": [
    {
     "name": "stdout",
     "output_type": "stream",
     "text": [
      "[]\n"
     ]
    }
   ],
   "source": [
    "in_dir = '/scratch/08589/hvtran/predrnn-pytorch/checkpoints/2012_predrnn_test/test_result/1/'\n",
    "out_dir = '/scratch/08589/hvtran/PredRNN_Sandy/'\n",
    "start_date = datetime(2005,8,25,0)\n",
    "step = 24\n",
    "n_lead_time = 240\n",
    "list_batchs = sorted([name for name in os.listdir(in_dir) if os.path.isdir(os.path.join(in_dir, name))])\n",
    "print(list_batchs)"
   ]
  },
  {
   "cell_type": "code",
   "execution_count": null,
   "id": "62bf305c-0934-4d8b-81e8-e43626f3cbe4",
   "metadata": {},
   "outputs": [],
   "source": []
  }
 ],
 "metadata": {
  "kernelspec": {
   "display_name": "Python 3 (ipykernel)",
   "language": "python",
   "name": "python3"
  },
  "language_info": {
   "codemirror_mode": {
    "name": "ipython",
    "version": 3
   },
   "file_extension": ".py",
   "mimetype": "text/x-python",
   "name": "python",
   "nbconvert_exporter": "python",
   "pygments_lexer": "ipython3",
   "version": "3.9.7"
  }
 },
 "nbformat": 4,
 "nbformat_minor": 5
}
