{
 "cells": [
  {
   "cell_type": "code",
   "execution_count": 1,
   "id": "a150bbd0-ebcf-4764-90f6-ff2620ded2da",
   "metadata": {},
   "outputs": [],
   "source": [
    "import os\n",
    "import sys\n",
    "import xarray as xr\n",
    "import numpy as np\n",
    "import xesmf as xe\n",
    "import pandas as pd\n",
    "from datetime import datetime, timedelta\n"
   ]
  },
  {
   "cell_type": "code",
   "execution_count": 2,
   "id": "86d6676e-2016-4f34-8e35-80cb8625b9e0",
   "metadata": {},
   "outputs": [],
   "source": [
    "%matplotlib inline"
   ]
  },
  {
   "cell_type": "code",
   "execution_count": 3,
   "id": "41578a0d-d618-4921-a5e7-20d8f8789de4",
   "metadata": {},
   "outputs": [],
   "source": [
    "def denormalize(array,key):\n",
    "    norm_dict = {'u_wind':[-20,20],\n",
    "                'v_wind':[-20,20],\n",
    "                'temp':[210,305],\n",
    "                'sea_press':[98000,105000],\n",
    "                'precip':[-7,-2],\n",
    "                'vapor':[-1,2.]}\n",
    "    if key == 'wind':\n",
    "        array = array * 20\n",
    "    elif key == 'precip':\n",
    "        array = 10**(array * (norm_dict[key][1] - norm_dict[key][0]) + norm_dict[key][0])\n",
    "    else:\n",
    "        array = array * (norm_dict[key][1] - norm_dict[key][0]) + norm_dict[key][0]\n",
    "    return array\n",
    "\n",
    "#create netCDF files\n",
    "def write_netcdf(datas,key,var_dict,lon,lat,start_time,lead_time=None):\n",
    "    if lead_time is not None:\n",
    "        data_vars = {\n",
    "            var_dict[key] : ([\"time\",\"lead_time\",\"lat\",\"lon\"], datas[key]),\n",
    "        }\n",
    "        coords = {\n",
    "            \"lon\": lon,\n",
    "            \"lat\": lat,\n",
    "            \"lead_time\": lead_time,\n",
    "            \"time\": start_time\n",
    "        }\n",
    "    else:\n",
    "        data_vars = {\n",
    "            var_dict[key] : ([\"time\",\"lat\",\"lon\"], datas[key]),\n",
    "        }\n",
    "        coords = {\n",
    "            \"lon\": lon,\n",
    "            \"lat\": lat,\n",
    "            \"time\": start_time\n",
    "        }\n",
    "    ds = xr.Dataset(data_vars = data_vars, coords = coords)\n",
    "    return ds"
   ]
  },
  {
   "cell_type": "code",
   "execution_count": 4,
   "id": "30cd11f9-3566-4c70-8901-ec1e3e03aca3",
   "metadata": {},
   "outputs": [
    {
     "name": "stdout",
     "output_type": "stream",
     "text": [
      "16\n"
     ]
    }
   ],
   "source": [
    "in_dir = '/scratch/08589/hvtran/predrnn-pytorch/checkpoints/2018_predrnn_15days/test_result/'\n",
    "out_dir = '/scratch/08589/hvtran/PredRNN_Sandy/'\n",
    "start_date = datetime.strptime(\"2018-09-01-00\",'%Y-%m-%d-%H')\n",
    "#start_date = datetime(2012,10,21,12)\n",
    "\n",
    "list_batchs = sorted([int(name) for name in os.listdir(in_dir) if os.path.isdir(os.path.join(in_dir, name))])\n",
    "n_batchs = len(list_batchs)\n",
    "print(n_batchs)\n",
    "curr_timestamp = datetime.now().strftime('%Y%m%d%H')"
   ]
  },
  {
   "cell_type": "code",
   "execution_count": 5,
   "id": "af03cff8-164e-4a9b-ae32-d8c718711d6a",
   "metadata": {
    "scrolled": true,
    "tags": []
   },
   "outputs": [],
   "source": [
    "step = 12\n",
    "#data parameters\n",
    "var_dict = {'u_wind':'u10', 'wind':'v10', 'temp': 't2m', 'sea_press': 'sea_press', 'precip':'tp', 'vapor':'tcwv'}\n",
    "var_order = {'wind':0, 'sea_press':1, 'precip':2}\n",
    "\n",
    "lon = np.arange(0,360,0.25)\n",
    "lat = np.arange(-89.75,90.1,0.25)[::-1]\n",
    "start_time = pd.date_range(start_date, periods=n_batchs, freq=str(step)+'H')\n",
    "start_time = np.array([(x - datetime(2001,1,1,0)).total_seconds()/3600. for x in start_time])\n"
   ]
  },
  {
   "cell_type": "code",
   "execution_count": 6,
   "id": "12811c94-cfc8-4b65-ba5e-8e2c88dc57c3",
   "metadata": {
    "scrolled": true,
    "tags": []
   },
   "outputs": [
    {
     "name": "stdout",
     "output_type": "stream",
     "text": [
      "1\n",
      "2\n",
      "3\n",
      "4\n",
      "5\n",
      "6\n",
      "7\n",
      "8\n",
      "9\n",
      "10\n",
      "11\n",
      "12\n",
      "13\n",
      "14\n",
      "15\n",
      "16\n"
     ]
    }
   ],
   "source": [
    "\n",
    "gt_final_arr = []\n",
    "pd_final_arr = []\n",
    "\n",
    "for batchi in list_batchs:\n",
    "    print(batchi)\n",
    "    #print(batchi)\n",
    "    gt_arr = np.load(in_dir+str(batchi)+'/gt.npy')\n",
    "    pd_arr = np.load(in_dir+str(batchi)+'/pd.npy')\n",
    "    #appending\n",
    "    if batchi < len(list_batchs):\n",
    "        gt_final_arr.append(gt_arr[:,:step,:,:,:])\n",
    "    else:\n",
    "        gt_final_arr.append(gt_arr)\n",
    "    pd_final_arr.append(pd_arr)\n"
   ]
  },
  {
   "cell_type": "code",
   "execution_count": 7,
   "id": "45e80248-dbc5-4183-bea6-0f7adb542572",
   "metadata": {},
   "outputs": [
    {
     "name": "stdout",
     "output_type": "stream",
     "text": [
      "(1, 240, 720, 1440, 3)\n",
      "(16, 60, 720, 1440, 3)\n"
     ]
    }
   ],
   "source": [
    "gt_final_arr = np.concatenate(gt_final_arr, axis=1)\n",
    "pd_final_arr = np.concatenate(pd_final_arr, axis=0)\n",
    "print(gt_final_arr.shape)\n",
    "print(pd_final_arr.shape)"
   ]
  },
  {
   "cell_type": "code",
   "execution_count": 33,
   "id": "3650dba9-afd9-43bd-87d8-90e3e255a928",
   "metadata": {},
   "outputs": [],
   "source": [
    "var_key = \"precip\"\n",
    "lead_time = np.arange(pd_arr.shape[1])*6\n",
    "start_time = pd.date_range(start_date, periods=n_batchs, freq=str(step*6)+'H')\n",
    "start_time = np.array([(x - datetime(2001,1,1,0)).total_seconds()/3600. for x in start_time])"
   ]
  },
  {
   "cell_type": "code",
   "execution_count": 34,
   "id": "321df45a-decd-4f58-9014-7966291045d8",
   "metadata": {},
   "outputs": [],
   "source": [
    "gt_u_arr = denormalize(gt_final_arr[0,:,:,:,var_order[var_key]],var_key)\n",
    "pd_u_arr = denormalize(pd_final_arr[...,var_order[var_key]],var_key)"
   ]
  },
  {
   "cell_type": "code",
   "execution_count": 35,
   "id": "1887a69a-6b26-4e5c-b19c-41a96defbc57",
   "metadata": {},
   "outputs": [],
   "source": [
    "out_pd_file = out_dir+'raw/prediction_6hr_'+start_date.strftime('%Y%m%d%H')+'.'+var_key+'.'+curr_timestamp+'.nc'\n",
    "out_gt_file = out_dir+'raw/truth_6hr_'+start_date.strftime('%Y%m%d%H')+'.'+var_key+'.'+curr_timestamp+'.nc'\n"
   ]
  },
  {
   "cell_type": "code",
   "execution_count": 36,
   "id": "58cec6c7-e560-4dcb-a065-6b3db2f04c10",
   "metadata": {},
   "outputs": [],
   "source": [
    "pd_datas = {}\n",
    "pd_datas[var_key] = pd_u_arr\n",
    "\n",
    "pd_ds = write_netcdf(pd_datas,var_key,var_dict,lon,lat,start_time,lead_time)\n",
    "pd_ds.time.attrs['units']='hours since 2001-01-01 00:00:00'\n",
    "pd_ds.time.attrs['calendar']='standard'\n",
    "pd_ds.time.encoding['units'] = 'hours since 2001-01-01 00:00:00'\n",
    "\n",
    "if os.path.isfile(out_pd_file):\n",
    "    os.remove(out_pd_file)\n",
    "\n",
    "pd_ds.to_netcdf(out_pd_file)\n"
   ]
  },
  {
   "cell_type": "code",
   "execution_count": 37,
   "id": "9eaf36e9-617c-4c15-acc7-8ddcf6894dc7",
   "metadata": {},
   "outputs": [],
   "source": [
    "n_lead_time = gt_final_arr.shape[1]\n",
    "start_time = pd.date_range(start_date, periods=n_lead_time, freq='6H')\n",
    "start_time = np.array([(x - datetime(2001,1,1,0)).total_seconds()/3600. for x in start_time])\n"
   ]
  },
  {
   "cell_type": "code",
   "execution_count": 38,
   "id": "5f6aab75-2d6d-4c5a-b938-0127eaf30cd3",
   "metadata": {},
   "outputs": [],
   "source": [
    "gt_datas = {}\n",
    "gt_datas[var_key] = gt_u_arr\n",
    "\n",
    "gt_ds = write_netcdf(gt_datas,var_key,var_dict,lon,lat,start_time)\n",
    "gt_ds.time.attrs['units']='hours since 2001-01-01 00:00:00'\n",
    "gt_ds.time.attrs['calendar']='standard'\n",
    "gt_ds.time.encoding['units'] = 'hours since 2001-01-01 00:00:00'\n",
    "\n",
    "if os.path.isfile(out_gt_file):\n",
    "    os.remove(out_gt_file)\n",
    "\n",
    "gt_ds.to_netcdf(out_gt_file)"
   ]
  },
  {
   "cell_type": "code",
   "execution_count": 39,
   "id": "3c8c9f86-24b4-4be8-aa9f-6b9268cd98a7",
   "metadata": {},
   "outputs": [
    {
     "name": "stdout",
     "output_type": "stream",
     "text": [
      "/scratch/08589/hvtran/PredRNN_Sandy/raw/prediction_6hr_2018090100.precip.2023050118.nc\n",
      "/scratch/08589/hvtran/PredRNN_Sandy/raw/truth_6hr_2018090100.precip.2023050118.nc\n"
     ]
    }
   ],
   "source": [
    "print(out_pd_file)\n",
    "print(out_gt_file)"
   ]
  },
  {
   "cell_type": "code",
   "execution_count": 41,
   "id": "1072c646-576a-44f4-81f5-71e9c966a7b2",
   "metadata": {},
   "outputs": [
    {
     "name": "stderr",
     "output_type": "stream",
     "text": [
      "  0%|          | 0/1 [00:00<?, ?it/s]/work/08589/hvtran/ls6/miniconda3/lib/python3.9/site-packages/xesmf/frontend.py:477: FutureWarning: ``output_sizes`` should be given in the ``dask_gufunc_kwargs`` parameter. It will be removed as direct parameter in a future version.\n",
      "  ds_out = xr.apply_ufunc(\n"
     ]
    },
    {
     "name": "stdout",
     "output_type": "stream",
     "text": [
      "Regridding file: /scratch/08589/hvtran/PredRNN_Sandy/raw/prediction_6hr_2018090100.precip.2023050118.nc\n",
      "Overwrite existing file: bilinear_720x1440_360x720_peri.nc \n",
      " You can set reuse_weights=True to save computing time.\n",
      "using dimensions ('lat', 'lon') from data variable tp as the horizontal dimensions for this dataset.\n",
      "Saving file: /scratch/08589/hvtran/PredRNN_Sandy/raw/prediction_6hr_2018090100.precip.2023050118_05.nc\n"
     ]
    },
    {
     "name": "stderr",
     "output_type": "stream",
     "text": [
      "100%|██████████| 1/1 [00:15<00:00, 15.94s/it]\n"
     ]
    },
    {
     "data": {
      "text/plain": [
       "0"
      ]
     },
     "execution_count": 41,
     "metadata": {},
     "output_type": "execute_result"
    }
   ],
   "source": [
    "down_scaled_file = os.path.basename(out_pd_file).replace('2023050118.nc','2023050118_05.nc')\n",
    "os.system('python3 /work/08589/hvtran/ls6/ERA5_PredRNN-main/validation/WeatherBench/src/regrid.py --input_fns '+\\\n",
    "         out_pd_file+' --output_dir /scratch/08589/hvtran/PredRNN_Sandy/raw --ddeg_out 0.5 --reuse_weights 0 --custom_fn '+\\\n",
    "         down_scaled_file)"
   ]
  },
  {
   "cell_type": "code",
   "execution_count": 17,
   "id": "c831ebc1-c104-4ae7-b64b-821362d6bb0d",
   "metadata": {},
   "outputs": [],
   "source": [
    "import pickle\n",
    "import matplotlib.pyplot as plt\n",
    "def to_pickle(obj, fn):\n",
    "    with open(fn, 'wb') as f:\n",
    "        pickle.dump(obj, f)\n",
    "def read_pickle(fn):\n",
    "    with open(fn, 'rb') as f:\n",
    "        return pickle.load(f)"
   ]
  },
  {
   "cell_type": "code",
   "execution_count": 19,
   "id": "bcdf37b4-e34e-4955-a010-33f9e576d7fa",
   "metadata": {},
   "outputs": [],
   "source": [
    "%matplotlib inline"
   ]
  },
  {
   "cell_type": "code",
   "execution_count": 14,
   "id": "028c8596-64a3-47ec-bbd5-813a23a45541",
   "metadata": {},
   "outputs": [],
   "source": [
    "rmse = read_pickle(f'/work/08589/hvtran/ls6/ERA5_PredRNN-main/validation/WeatherBench/src/rmse.pkl')\n",
    "acc = read_pickle(f'.acc.pkl')\n",
    "mae = read_pickle(f'.mae.pkl')"
   ]
  },
  {
   "cell_type": "code",
   "execution_count": 15,
   "id": "afea337a-ac5e-4a88-8bf1-9ed5b5804b9b",
   "metadata": {},
   "outputs": [
    {
     "name": "stdout",
     "output_type": "stream",
     "text": [
      "OrderedDict([('PredRNN', <xarray.Dataset>\n",
      "Dimensions:    (lead_time: 72)\n",
      "Coordinates:\n",
      "  * lead_time  (lead_time) int64 0 1 2 3 4 5 6 7 8 ... 64 65 66 67 68 69 70 71\n",
      "Data variables:\n",
      "    v10        (lead_time) float64 2.86 2.847 2.828 2.814 ... 2.983 2.988 3.003\n",
      "    sea_press  (lead_time) float64 0.08596 0.08602 0.08582 ... 0.1136 0.1147\n",
      "    tp         (lead_time) float64 247.2 247.4 247.7 247.9 ... 256.9 257.2 257.4)])\n"
     ]
    }
   ],
   "source": [
    "print(rmse)"
   ]
  },
  {
   "cell_type": "code",
   "execution_count": 25,
   "id": "6ec207ec-df5f-40a1-bc0b-42216da75fd3",
   "metadata": {},
   "outputs": [
    {
     "data": {
      "text/plain": [
       "[<matplotlib.lines.Line2D at 0x153946f67730>]"
      ]
     },
     "execution_count": 25,
     "metadata": {},
     "output_type": "execute_result"
    },
    {
     "data": {
      "image/png": "[encoded data removed]",
      "text/plain": [
       "<Figure size 432x288 with 1 Axes>"
      ]
     },
     "metadata": {
      "needs_background": "light"
     },
     "output_type": "display_data"
    }
   ],
   "source": [
    "plt.plot(rmse['PredRNN']['v10'])"
   ]
  },
  {
   "cell_type": "code",
   "execution_count": null,
   "id": "9d62aadc-9d6a-403c-8589-5832d7abe7c1",
   "metadata": {},
   "outputs": [],
   "source": []
  }
 ],
 "metadata": {
  "kernelspec": {
   "display_name": "Python 3 (ipykernel)",
   "language": "python",
   "name": "python3"
  },
  "language_info": {
   "codemirror_mode": {
    "name": "ipython",
    "version": 3
   },
   "file_extension": ".py",
   "mimetype": "text/x-python",
   "name": "python",
   "nbconvert_exporter": "python",
   "pygments_lexer": "ipython3",
   "version": "3.9.7"
  }
 },
 "nbformat": 4,
 "nbformat_minor": 5
}
