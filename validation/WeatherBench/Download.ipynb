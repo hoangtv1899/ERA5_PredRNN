{
 "cells": [
  {
   "cell_type": "code",
   "execution_count": null,
   "id": "a49058ce-14db-4520-99f9-77e86f113fa6",
   "metadata": {},
   "outputs": [
    {
     "name": "stdout",
     "output_type": "stream",
     "text": [
      "0.25\n",
      "2022-06-15 13:42:52,852 INFO Welcome to the CDS\n",
      "2022-06-15 13:42:52,852 INFO Sending request to https://cds.climate.copernicus.eu/api/v2/resources/reanalysis-era5-single-levels\n",
      "2022-06-15 13:42:53,019 INFO Request is queued\n"
     ]
    }
   ],
   "source": [
    "!python3 src/download.py --variable=\"10m_v_component_of_wind\" --level_type=\"single\" \\\n",
    "        --output_dir=\"/work/08589/hvtran/ls6/ERA5_PredRNN-main/validation/benchmark_ERA5\" \\\n",
    "        --years='2019' --month='01' --day='01' --time='00:00' --grid=0.25 single\n",
    "            "
   ]
  },
  {
   "cell_type": "code",
   "execution_count": null,
   "id": "16e966e8-a9a1-43ef-90f3-5853d3c1a727",
   "metadata": {},
   "outputs": [],
   "source": []
  }
 ],
 "metadata": {
  "kernelspec": {
   "display_name": "Python 3 (ipykernel)",
   "language": "python",
   "name": "python3"
  },
  "language_info": {
   "codemirror_mode": {
    "name": "ipython",
    "version": 3
   },
   "file_extension": ".py",
   "mimetype": "text/x-python",
   "name": "python",
   "nbconvert_exporter": "python",
   "pygments_lexer": "ipython3",
   "version": "3.9.7"
  }
 },
 "nbformat": 4,
 "nbformat_minor": 5
}
